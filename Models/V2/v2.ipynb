{
  "nbformat": 4,
  "nbformat_minor": 0,
  "metadata": {
    "colab": {
      "name": "MajorProjectDevnagariCNN (1).ipynb",
      "version": "0.3.2",
      "provenance": []
    },
    "kernelspec": {
      "name": "python3",
      "display_name": "Python 3"
    },
    "accelerator": "GPU"
  },
  "cells": [
    {
      "cell_type": "code",
      "metadata": {
        "id": "zUqBuOMSVdaP",
        "colab_type": "code",
        "outputId": "d6099575-3673-47df-ecc9-de5757a0572d",
        "colab": {
          "base_uri": "https://localhost:8080/",
          "height": 88
        }
      },
      "source": [
        "!pip install -q tensorflow==2.0.0-beta1 tensorflow-gpu==2.0.0-beta1"
      ],
      "execution_count": 1,
      "outputs": [
        {
          "output_type": "stream",
          "text": [
            "\u001b[K     |████████████████████████████████| 87.9MB 49.8MB/s \n",
            "\u001b[K     |████████████████████████████████| 348.9MB 81kB/s \n",
            "\u001b[K     |████████████████████████████████| 501kB 48.5MB/s \n",
            "\u001b[K     |████████████████████████████████| 3.1MB 41.6MB/s \n",
            "\u001b[?25h"
          ],
          "name": "stdout"
        }
      ]
    },
    {
      "cell_type": "code",
      "metadata": {
        "id": "eor2v6Z-XJNA",
        "colab_type": "code",
        "colab": {}
      },
      "source": [
        "import tensorflow as tf\n",
        "tf.compat.v1.disable_eager_execution()"
      ],
      "execution_count": 0,
      "outputs": []
    },
    {
      "cell_type": "code",
      "metadata": {
        "id": "svxjTQxfXHE6",
        "colab_type": "code",
        "colab": {}
      },
      "source": [
        "#taken from this StackOverflow answer: https://stackoverflow.com/a/39225039\n",
        "import requests\n",
        "\n",
        "def download_file_from_google_drive(id, destination):\n",
        "    URL = \"https://docs.google.com/uc?export=download\"\n",
        "\n",
        "    session = requests.Session()\n",
        "\n",
        "    response = session.get(URL, params = { 'id' : id }, stream = True)\n",
        "    token = get_confirm_token(response)\n",
        "\n",
        "    if token:\n",
        "        params = { 'id' : id, 'confirm' : token }\n",
        "        response = session.get(URL, params = params, stream = True)\n",
        "\n",
        "    save_response_content(response, destination)    \n",
        "\n",
        "def get_confirm_token(response):\n",
        "    for key, value in response.cookies.items():\n",
        "        if key.startswith('download_warning'):\n",
        "            return value\n",
        "\n",
        "    return None\n",
        "\n",
        "def save_response_content(response, destination):\n",
        "    CHUNK_SIZE = 32768\n",
        "\n",
        "    with open(destination, \"wb\") as f:\n",
        "        for chunk in response.iter_content(CHUNK_SIZE):\n",
        "            if chunk: # filter out keep-alive new chunks\n",
        "                f.write(chunk)\n"
      ],
      "execution_count": 0,
      "outputs": []
    },
    {
      "cell_type": "code",
      "metadata": {
        "id": "VvgmNfAsY-Vt",
        "colab_type": "code",
        "colab": {}
      },
      "source": [
        "download_file_from_google_drive('1dNsQjQYEoGXpX_w7bifHuRxFhlDejwbr','/content/data.zip')"
      ],
      "execution_count": 0,
      "outputs": []
    },
    {
      "cell_type": "code",
      "metadata": {
        "id": "uH0ccU97sei2",
        "colab_type": "code",
        "colab": {}
      },
      "source": [
        "!unzip -q '/content/data.zip'"
      ],
      "execution_count": 0,
      "outputs": []
    },
    {
      "cell_type": "code",
      "metadata": {
        "id": "XdFoPQitv-fi",
        "colab_type": "code",
        "colab": {}
      },
      "source": [
        "from tensorflow.python.keras.preprocessing.image import ImageDataGenerator"
      ],
      "execution_count": 0,
      "outputs": []
    },
    {
      "cell_type": "code",
      "metadata": {
        "id": "qnNWDvXdsu9M",
        "colab_type": "code",
        "colab": {}
      },
      "source": [
        "train_datagen = ImageDataGenerator(\n",
        "    rescale=1./255,\n",
        "    shear_range=0.2,\n",
        "    rotation_range=15,\n",
        "    validation_split =0.2)\n",
        "\n",
        "\n",
        "test_datagen = ImageDataGenerator(\n",
        "    rescale=1./255, \n",
        "  )\n"
      ],
      "execution_count": 0,
      "outputs": []
    },
    {
      "cell_type": "code",
      "metadata": {
        "id": "7d8V66yivGqe",
        "colab_type": "code",
        "outputId": "8c9d2dd3-2809-4939-d4c9-c909c1427e35",
        "colab": {
          "base_uri": "https://localhost:8080/",
          "height": 52
        }
      },
      "source": [
        "train_generator = train_datagen.flow_from_directory(\n",
        "    '/content/Dataset/',\n",
        "    target_size=(28, 28),\n",
        "    batch_size=128,\n",
        "    color_mode = 'grayscale',\n",
        "    shuffle = True,\n",
        "    class_mode='categorical',\n",
        "    subset = 'training',\n",
        " )\n",
        "\n",
        "valid_generator = train_datagen.flow_from_directory(\n",
        "    directory=\"/content/Dataset/\",\n",
        "    target_size=(28, 28),\n",
        "    color_mode=\"grayscale\",\n",
        "    batch_size=128,\n",
        "    class_mode=\"categorical\",\n",
        "    shuffle=True,\n",
        "    subset = \"validation\",\n",
        ")"
      ],
      "execution_count": 8,
      "outputs": [
        {
          "output_type": "stream",
          "text": [
            "Found 19200 images belonging to 24 classes.\n",
            "Found 4800 images belonging to 24 classes.\n"
          ],
          "name": "stdout"
        }
      ]
    },
    {
      "cell_type": "code",
      "metadata": {
        "id": "g3eTfndXv51o",
        "colab_type": "code",
        "colab": {}
      },
      "source": [
        "from tensorflow.python.keras.models import Model\n",
        "from tensorflow.python.keras.layers import Input,Dense,Dropout\n",
        "from tensorflow.python.keras.layers import Conv2D, MaxPooling2D, Flatten"
      ],
      "execution_count": 0,
      "outputs": []
    },
    {
      "cell_type": "code",
      "metadata": {
        "id": "6sbZkrwKxK3f",
        "colab_type": "code",
        "colab": {}
      },
      "source": [
        "#Network Parameters\n",
        "input_shape = (28,28,1)\n",
        "kernel_size = 3\n",
        "filters = 64\n",
        "dropout = 0.3"
      ],
      "execution_count": 0,
      "outputs": []
    },
    {
      "cell_type": "code",
      "metadata": {
        "id": "1MeVfQCDEAUk",
        "colab_type": "code",
        "colab": {}
      },
      "source": [
        "#majorProjectV2.h5\n",
        "inputs = Input(shape = (28,28,1))\n",
        "x = Conv2D(filters = 32,\n",
        "          kernel_size=3,\n",
        "          strides = (2,2),\n",
        "          name='Conv1',\n",
        "          activation = 'relu')(inputs)\n",
        "x = MaxPooling2D(pool_size = 2)(x)\n",
        "x= Conv2D(filters = 64,\n",
        "         kernel_size=2,\n",
        "         strides=(1,1),\n",
        "         name='Conv2',\n",
        "         activation = 'relu')(x)\n",
        "x=MaxPooling2D()(x)\n",
        "x = Flatten()(x)\n",
        "x = Dropout(0.3)(x)\n",
        "outputs = Dense(24,activation='softmax')(x)\n",
        "              "
      ],
      "execution_count": 0,
      "outputs": []
    },
    {
      "cell_type": "code",
      "metadata": {
        "id": "_OZ6chGEy9a8",
        "colab_type": "code",
        "colab": {}
      },
      "source": [
        "model = Model(inputs = inputs, outputs = outputs)"
      ],
      "execution_count": 0,
      "outputs": []
    },
    {
      "cell_type": "code",
      "metadata": {
        "id": "e97FAbl7zLZj",
        "colab_type": "code",
        "outputId": "06c6b73e-eea2-4513-da15-4db86a723850",
        "colab": {
          "base_uri": "https://localhost:8080/",
          "height": 444
        }
      },
      "source": [
        "model.summary()\n"
      ],
      "execution_count": 36,
      "outputs": [
        {
          "output_type": "stream",
          "text": [
            "Model: \"model_1\"\n",
            "_________________________________________________________________\n",
            "Layer (type)                 Output Shape              Param #   \n",
            "=================================================================\n",
            "input_6 (InputLayer)         [(None, 28, 28, 1)]       0         \n",
            "_________________________________________________________________\n",
            "Conv1 (Conv2D)               (None, 13, 13, 32)        320       \n",
            "_________________________________________________________________\n",
            "max_pooling2d_9 (MaxPooling2 (None, 6, 6, 32)          0         \n",
            "_________________________________________________________________\n",
            "Conv2 (Conv2D)               (None, 5, 5, 64)          8256      \n",
            "_________________________________________________________________\n",
            "max_pooling2d_10 (MaxPooling (None, 2, 2, 64)          0         \n",
            "_________________________________________________________________\n",
            "flatten_1 (Flatten)          (None, 256)               0         \n",
            "_________________________________________________________________\n",
            "dropout (Dropout)            (None, 256)               0         \n",
            "_________________________________________________________________\n",
            "dense_1 (Dense)              (None, 24)                6168      \n",
            "=================================================================\n",
            "Total params: 14,744\n",
            "Trainable params: 14,744\n",
            "Non-trainable params: 0\n",
            "_________________________________________________________________\n"
          ],
          "name": "stdout"
        }
      ]
    },
    {
      "cell_type": "code",
      "metadata": {
        "id": "yfYz7syDzYuP",
        "colab_type": "code",
        "outputId": "457c5cf6-2614-46e5-b862-b67f73d268e3",
        "colab": {
          "base_uri": "https://localhost:8080/",
          "height": 865
        }
      },
      "source": [
        "# Convolutional Neural Network\n",
        "from tensorflow.python.keras.utils import plot_model\n",
        "plot_model(model, to_file='convolution_neural_network.png',show_shapes = True)"
      ],
      "execution_count": 37,
      "outputs": [
        {
          "output_type": "execute_result",
          "data": {
            "image/png": "[encoded data removed]",
            "text/plain": [
              "<IPython.core.display.Image object>"
            ]
          },
          "metadata": {
            "tags": []
          },
          "execution_count": 37
        }
      ]
    },
    {
      "cell_type": "code",
      "metadata": {
        "colab_type": "code",
        "id": "Au9fRLDx50KW",
        "colab": {}
      },
      "source": [
        "model.compile(optimizer='adam', loss='categorical_crossentropy', metrics=['accuracy'])"
      ],
      "execution_count": 0,
      "outputs": []
    },
    {
      "cell_type": "code",
      "metadata": {
        "id": "nFmqSAkA62mv",
        "colab_type": "code",
        "outputId": "c12ffdf7-8122-4758-c92c-4def0e245cc9",
        "colab": {
          "base_uri": "https://localhost:8080/",
          "height": 248
        }
      },
      "source": [
        "!wget https://bin.equinox.io/c/4VmDzA7iaHb/ngrok-stable-linux-amd64.zip\n",
        "!unzip ngrok-stable-linux-amd64.zip"
      ],
      "execution_count": 24,
      "outputs": [
        {
          "output_type": "stream",
          "text": [
            "--2019-07-31 09:27:57--  https://bin.equinox.io/c/4VmDzA7iaHb/ngrok-stable-linux-amd64.zip\n",
            "Resolving bin.equinox.io (bin.equinox.io)... 34.232.40.183, 52.72.245.79, 34.200.203.60, ...\n",
            "Connecting to bin.equinox.io (bin.equinox.io)|34.232.40.183|:443... connected.\n",
            "HTTP request sent, awaiting response... 200 OK\n",
            "Length: 13607069 (13M) [application/octet-stream]\n",
            "Saving to: ‘ngrok-stable-linux-amd64.zip’\n",
            "\n",
            "\r          ngrok-sta   0%[                    ]       0  --.-KB/s               \r         ngrok-stab  14%[=>                  ]   1.82M  9.08MB/s               \rngrok-stable-linux- 100%[===================>]  12.98M  37.7MB/s    in 0.3s    \n",
            "\n",
            "2019-07-31 09:27:57 (37.7 MB/s) - ‘ngrok-stable-linux-amd64.zip’ saved [13607069/13607069]\n",
            "\n",
            "Archive:  ngrok-stable-linux-amd64.zip\n",
            "  inflating: ngrok                   \n"
          ],
          "name": "stdout"
        }
      ]
    },
    {
      "cell_type": "code",
      "metadata": {
        "id": "dWPq_8XqW3P0",
        "colab_type": "code",
        "colab": {}
      },
      "source": [
        "!mkdir log_dir"
      ],
      "execution_count": 0,
      "outputs": []
    },
    {
      "cell_type": "code",
      "metadata": {
        "id": "hKqCB-D1Wuh5",
        "colab_type": "code",
        "colab": {}
      },
      "source": [
        "log_dir='log_dir'"
      ],
      "execution_count": 0,
      "outputs": []
    },
    {
      "cell_type": "code",
      "metadata": {
        "id": "gIIzl1GY66rd",
        "colab_type": "code",
        "colab": {}
      },
      "source": [
        "get_ipython().system_raw(\n",
        "    'tensorboard --logdir {} --host 0.0.0.0 --port 6006 &'\n",
        "    .format(log_dir)\n",
        ")"
      ],
      "execution_count": 0,
      "outputs": []
    },
    {
      "cell_type": "code",
      "metadata": {
        "id": "ZcyLBez3XzXv",
        "colab_type": "code",
        "outputId": "20b7e9ee-1bf9-4641-d8ee-6f80d24da83e",
        "colab": {
          "base_uri": "https://localhost:8080/",
          "height": 35
        }
      },
      "source": [
        "get_ipython().system_raw('./ngrok authtoken 3B7pn9NBtoPA5qBzWAnxC_MJtkbzVtAKAiSEKrUQKQ &')\n",
        "get_ipython().system_raw('./ngrok http 6006 &')\n",
        "! curl -s http://localhost:4040/api/tunnels | python3 -c \\\n",
        "    \"import sys, json; print(json.load(sys.stdin)['tunnels'][0]['public_url'])\""
      ],
      "execution_count": 28,
      "outputs": [
        {
          "output_type": "stream",
          "text": [
            "https://5817367f.ngrok.io\n"
          ],
          "name": "stdout"
        }
      ]
    },
    {
      "cell_type": "code",
      "metadata": {
        "id": "mp23rP1F61FY",
        "colab_type": "code",
        "colab": {}
      },
      "source": [
        "from tensorflow.python.keras.callbacks import TensorBoard"
      ],
      "execution_count": 0,
      "outputs": []
    },
    {
      "cell_type": "code",
      "metadata": {
        "id": "goyiYF4etNKU",
        "colab_type": "code",
        "colab": {}
      },
      "source": [
        "callbacks = [TensorBoard(log_dir, update_freq='batch')]"
      ],
      "execution_count": 0,
      "outputs": []
    },
    {
      "cell_type": "code",
      "metadata": {
        "id": "mxBfRuhi7Gjf",
        "colab_type": "code",
        "outputId": "fdf2bf97-46b3-45c2-ad0a-e9b536643412",
        "colab": {
          "base_uri": "https://localhost:8080/",
          "height": 924
        }
      },
      "source": [
        "model.fit_generator(train_generator,epochs = 25, steps_per_epoch=19200//128,validation_steps=4800//128,validation_data=valid_generator, callbacks=callbacks)"
      ],
      "execution_count": 39,
      "outputs": [
        {
          "output_type": "stream",
          "text": [
            "Epoch 1/25\n",
            "150/150 [==============================] - 11s 72ms/step - loss: 2.7729 - accuracy: 0.1973 - val_loss: 1.9918 - val_accuracy: 0.4512\n",
            "Epoch 2/25\n",
            "150/150 [==============================] - 10s 66ms/step - loss: 1.6790 - accuracy: 0.4617 - val_loss: 1.4280 - val_accuracy: 0.5553\n",
            "Epoch 3/25\n",
            "150/150 [==============================] - 10s 66ms/step - loss: 1.3236 - accuracy: 0.5620 - val_loss: 1.2416 - val_accuracy: 0.6098\n",
            "Epoch 4/25\n",
            "150/150 [==============================] - 10s 66ms/step - loss: 1.1620 - accuracy: 0.6103 - val_loss: 1.1220 - val_accuracy: 0.6455\n",
            "Epoch 5/25\n",
            "150/150 [==============================] - 10s 66ms/step - loss: 1.0676 - accuracy: 0.6406 - val_loss: 1.0502 - val_accuracy: 0.6603\n",
            "Epoch 6/25\n",
            "150/150 [==============================] - 10s 66ms/step - loss: 1.0052 - accuracy: 0.6607 - val_loss: 1.0222 - val_accuracy: 0.6579\n",
            "Epoch 7/25\n",
            "150/150 [==============================] - 10s 66ms/step - loss: 0.9463 - accuracy: 0.6749 - val_loss: 0.9552 - val_accuracy: 0.6848\n",
            "Epoch 8/25\n",
            "150/150 [==============================] - 10s 66ms/step - loss: 0.8964 - accuracy: 0.6908 - val_loss: 0.9250 - val_accuracy: 0.6949\n",
            "Epoch 9/25\n",
            "150/150 [==============================] - 10s 66ms/step - loss: 0.8719 - accuracy: 0.6999 - val_loss: 0.9458 - val_accuracy: 0.6877\n",
            "Epoch 10/25\n",
            "150/150 [==============================] - 10s 67ms/step - loss: 0.8251 - accuracy: 0.7127 - val_loss: 0.8898 - val_accuracy: 0.7014\n",
            "Epoch 11/25\n",
            "150/150 [==============================] - 10s 66ms/step - loss: 0.8146 - accuracy: 0.7183 - val_loss: 0.8684 - val_accuracy: 0.7124\n",
            "Epoch 12/25\n",
            "150/150 [==============================] - 10s 66ms/step - loss: 0.7818 - accuracy: 0.7303 - val_loss: 0.8717 - val_accuracy: 0.7076\n",
            "Epoch 13/25\n",
            "150/150 [==============================] - 10s 66ms/step - loss: 0.7519 - accuracy: 0.7390 - val_loss: 0.8318 - val_accuracy: 0.7226\n",
            "Epoch 14/25\n",
            "150/150 [==============================] - 10s 66ms/step - loss: 0.7380 - accuracy: 0.7403 - val_loss: 0.8027 - val_accuracy: 0.7306\n",
            "Epoch 15/25\n",
            "150/150 [==============================] - 10s 65ms/step - loss: 0.7236 - accuracy: 0.7452 - val_loss: 0.7919 - val_accuracy: 0.7287\n",
            "Epoch 16/25\n",
            "150/150 [==============================] - 10s 66ms/step - loss: 0.7127 - accuracy: 0.7481 - val_loss: 0.7774 - val_accuracy: 0.7352\n",
            "Epoch 17/25\n",
            "150/150 [==============================] - 10s 68ms/step - loss: 0.6893 - accuracy: 0.7565 - val_loss: 0.7715 - val_accuracy: 0.7314\n",
            "Epoch 18/25\n",
            "150/150 [==============================] - 10s 65ms/step - loss: 0.6787 - accuracy: 0.7592 - val_loss: 0.7349 - val_accuracy: 0.7481\n",
            "Epoch 19/25\n",
            "150/150 [==============================] - 10s 65ms/step - loss: 0.6744 - accuracy: 0.7631 - val_loss: 0.7473 - val_accuracy: 0.7418\n",
            "Epoch 20/25\n",
            "150/150 [==============================] - 10s 65ms/step - loss: 0.6613 - accuracy: 0.7647 - val_loss: 0.7431 - val_accuracy: 0.7449\n",
            "Epoch 21/25\n",
            "150/150 [==============================] - 10s 66ms/step - loss: 0.6434 - accuracy: 0.7702 - val_loss: 0.7171 - val_accuracy: 0.7466\n",
            "Epoch 22/25\n",
            "150/150 [==============================] - 10s 65ms/step - loss: 0.6368 - accuracy: 0.7741 - val_loss: 0.7066 - val_accuracy: 0.7521\n",
            "Epoch 23/25\n",
            "150/150 [==============================] - 10s 65ms/step - loss: 0.6283 - accuracy: 0.7766 - val_loss: 0.7007 - val_accuracy: 0.7574\n",
            "Epoch 24/25\n",
            "150/150 [==============================] - 10s 66ms/step - loss: 0.6227 - accuracy: 0.7773 - val_loss: 0.7053 - val_accuracy: 0.7527\n",
            "Epoch 25/25\n",
            "150/150 [==============================] - 10s 65ms/step - loss: 0.6191 - accuracy: 0.7779 - val_loss: 0.6858 - val_accuracy: 0.7639\n"
          ],
          "name": "stdout"
        },
        {
          "output_type": "execute_result",
          "data": {
            "text/plain": [
              "<tensorflow.python.keras.callbacks.History at 0x7f7a800e1d68>"
            ]
          },
          "metadata": {
            "tags": []
          },
          "execution_count": 39
        }
      ]
    },
    {
      "cell_type": "code",
      "metadata": {
        "id": "WmouhQDtSq4w",
        "colab_type": "code",
        "colab": {}
      },
      "source": [
        "model.save('majorProjectV2.h5')"
      ],
      "execution_count": 0,
      "outputs": []
    },
    {
      "cell_type": "code",
      "metadata": {
        "id": "CZ5QKrQpYF9S",
        "colab_type": "code",
        "colab": {}
      },
      "source": [
        "from google.colab import drive\n",
        "drive.mount('/content/drive')"
      ],
      "execution_count": 0,
      "outputs": []
    },
    {
      "cell_type": "code",
      "metadata": {
        "id": "2h2CBNC3YIu7",
        "colab_type": "code",
        "colab": {}
      },
      "source": [
        ""
      ],
      "execution_count": 0,
      "outputs": []
    }
  ]
}