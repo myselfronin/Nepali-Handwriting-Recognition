{
  "nbformat": 4,
  "nbformat_minor": 0,
  "metadata": {
    "colab": {
      "name": "MajorProjectDevnagariCNN.ipynb",
      "version": "0.3.2",
      "provenance": []
    },
    "kernelspec": {
      "name": "python3",
      "display_name": "Python 3"
    },
    "accelerator": "GPU"
  },
  "cells": [
    {
      "cell_type": "code",
      "metadata": {
        "id": "zUqBuOMSVdaP",
        "colab_type": "code",
        "outputId": "e1cd4973-a5c8-4b0e-a2c8-4f4946eb6b1b",
        "colab": {
          "base_uri": "https://localhost:8080/",
          "height": 88
        }
      },
      "source": [
        "!pip install -q tensorflow==2.0.0-beta1 tensorflow-gpu==2.0.0-beta1"
      ],
      "execution_count": 0,
      "outputs": [
        {
          "output_type": "stream",
          "text": [
            "\u001b[K     |████████████████████████████████| 87.9MB 1.7MB/s \n",
            "\u001b[K     |████████████████████████████████| 348.9MB 45kB/s \n",
            "\u001b[K     |████████████████████████████████| 3.1MB 31.7MB/s \n",
            "\u001b[K     |████████████████████████████████| 501kB 41.7MB/s \n",
            "\u001b[?25h"
          ],
          "name": "stdout"
        }
      ]
    },
    {
      "cell_type": "code",
      "metadata": {
        "id": "eor2v6Z-XJNA",
        "colab_type": "code",
        "colab": {}
      },
      "source": [
        "import tensorflow as tf\n",
        "tf.compat.v1.disable_eager_execution()"
      ],
      "execution_count": 0,
      "outputs": []
    },
    {
      "cell_type": "code",
      "metadata": {
        "id": "svxjTQxfXHE6",
        "colab_type": "code",
        "colab": {}
      },
      "source": [
        "#taken from this StackOverflow answer: https://stackoverflow.com/a/39225039\n",
        "import requests\n",
        "\n",
        "def download_file_from_google_drive(id, destination):\n",
        "    URL = \"https://docs.google.com/uc?export=download\"\n",
        "\n",
        "    session = requests.Session()\n",
        "\n",
        "    response = session.get(URL, params = { 'id' : id }, stream = True)\n",
        "    token = get_confirm_token(response)\n",
        "\n",
        "    if token:\n",
        "        params = { 'id' : id, 'confirm' : token }\n",
        "        response = session.get(URL, params = params, stream = True)\n",
        "\n",
        "    save_response_content(response, destination)    \n",
        "\n",
        "def get_confirm_token(response):\n",
        "    for key, value in response.cookies.items():\n",
        "        if key.startswith('download_warning'):\n",
        "            return value\n",
        "\n",
        "    return None\n",
        "\n",
        "def save_response_content(response, destination):\n",
        "    CHUNK_SIZE = 32768\n",
        "\n",
        "    with open(destination, \"wb\") as f:\n",
        "        for chunk in response.iter_content(CHUNK_SIZE):\n",
        "            if chunk: # filter out keep-alive new chunks\n",
        "                f.write(chunk)\n"
      ],
      "execution_count": 0,
      "outputs": []
    },
    {
      "cell_type": "code",
      "metadata": {
        "id": "VvgmNfAsY-Vt",
        "colab_type": "code",
        "colab": {}
      },
      "source": [
        "download_file_from_google_drive('1dNsQjQYEoGXpX_w7bifHuRxFhlDejwbr','/content/data.zip')"
      ],
      "execution_count": 0,
      "outputs": []
    },
    {
      "cell_type": "code",
      "metadata": {
        "id": "uH0ccU97sei2",
        "colab_type": "code",
        "colab": {}
      },
      "source": [
        "!unzip -q '/content/data.zip'"
      ],
      "execution_count": 0,
      "outputs": []
    },
    {
      "cell_type": "code",
      "metadata": {
        "id": "XdFoPQitv-fi",
        "colab_type": "code",
        "colab": {}
      },
      "source": [
        "from tensorflow.python.keras.preprocessing.image import ImageDataGenerator"
      ],
      "execution_count": 0,
      "outputs": []
    },
    {
      "cell_type": "code",
      "metadata": {
        "id": "qnNWDvXdsu9M",
        "colab_type": "code",
        "colab": {}
      },
      "source": [
        "train_datagen = ImageDataGenerator(\n",
        "    rescale=1./255,\n",
        "    shear_range=0.2,\n",
        "    rotation_range=15,\n",
        "    validation_split =0.2)\n",
        "\n",
        "\n",
        "test_datagen = ImageDataGenerator(\n",
        "    rescale=1./255, \n",
        "  )\n"
      ],
      "execution_count": 0,
      "outputs": []
    },
    {
      "cell_type": "code",
      "metadata": {
        "id": "7d8V66yivGqe",
        "colab_type": "code",
        "outputId": "dcd77c9e-e521-4ff6-923a-4e8e4ae9ab19",
        "colab": {
          "base_uri": "https://localhost:8080/",
          "height": 52
        }
      },
      "source": [
        "train_generator = train_datagen.flow_from_directory(\n",
        "    '/content/Dataset/',\n",
        "    target_size=(28, 28),\n",
        "    batch_size=128,\n",
        "    color_mode = 'grayscale',\n",
        "    shuffle = True,\n",
        "    class_mode='categorical',\n",
        "    subset = 'training',\n",
        " )\n",
        "\n",
        "valid_generator = train_datagen.flow_from_directory(\n",
        "    directory=\"/content/Dataset/\",\n",
        "    target_size=(28, 28),\n",
        "    color_mode=\"grayscale\",\n",
        "    batch_size=128,\n",
        "    class_mode=\"categorical\",\n",
        "    shuffle=True,\n",
        "    subset = \"validation\",\n",
        ")"
      ],
      "execution_count": 0,
      "outputs": [
        {
          "output_type": "stream",
          "text": [
            "Found 19200 images belonging to 24 classes.\n",
            "Found 4800 images belonging to 24 classes.\n"
          ],
          "name": "stdout"
        }
      ]
    },
    {
      "cell_type": "code",
      "metadata": {
        "id": "g3eTfndXv51o",
        "colab_type": "code",
        "colab": {}
      },
      "source": [
        "from tensorflow.python.keras.models import Model\n",
        "from tensorflow.python.keras.layers import Input,Dense,Dropout\n",
        "from tensorflow.python.keras.layers import Conv2D, MaxPooling2D, Flatten"
      ],
      "execution_count": 0,
      "outputs": []
    },
    {
      "cell_type": "code",
      "metadata": {
        "id": "6sbZkrwKxK3f",
        "colab_type": "code",
        "colab": {}
      },
      "source": [
        "#Network Parameters\n",
        "input_shape = (28,28,1)\n",
        "kernel_size = 3\n",
        "filters = 64\n",
        "dropout = 0.3"
      ],
      "execution_count": 0,
      "outputs": []
    },
    {
      "cell_type": "code",
      "metadata": {
        "id": "hc9aLDZgxfhs",
        "colab_type": "code",
        "colab": {}
      },
      "source": [
        "#user functional API to build CNN Layers\n",
        "\n",
        "inputs = Input(shape=input_shape)\n",
        "x = Conv2D(filters = filters,\n",
        "           kernel_size = kernel_size,\n",
        "           activation = 'relu')(inputs)\n",
        "x = MaxPooling2D()(x)\n",
        "x = Conv2D(filters = filters,\n",
        "           kernel_size = kernel_size,\n",
        "           activation = 'relu')(x)\n",
        "\n",
        "#image to vector before connecting to dense layer\n",
        "\n",
        "x = Flatten()(x)\n",
        "\n",
        "#dropout regularization\n",
        "\n",
        "x = Dropout(dropout)(x)\n",
        "\n",
        "outputs = Dense(24, activation = 'softmax')(x)"
      ],
      "execution_count": 0,
      "outputs": []
    },
    {
      "cell_type": "code",
      "metadata": {
        "id": "_OZ6chGEy9a8",
        "colab_type": "code",
        "colab": {}
      },
      "source": [
        "model = Model(inputs = inputs, outputs = outputs)"
      ],
      "execution_count": 0,
      "outputs": []
    },
    {
      "cell_type": "code",
      "metadata": {
        "id": "e97FAbl7zLZj",
        "colab_type": "code",
        "outputId": "3f85fd55-68c9-4663-c1fb-d8237740d786",
        "colab": {
          "base_uri": "https://localhost:8080/",
          "height": 408
        }
      },
      "source": [
        "model.summary()\n"
      ],
      "execution_count": 0,
      "outputs": [
        {
          "output_type": "stream",
          "text": [
            "Model: \"model_2\"\n",
            "_________________________________________________________________\n",
            "Layer (type)                 Output Shape              Param #   \n",
            "=================================================================\n",
            "input_4 (InputLayer)         [(None, 28, 28, 1)]       0         \n",
            "_________________________________________________________________\n",
            "conv2d_6 (Conv2D)            (None, 26, 26, 64)        640       \n",
            "_________________________________________________________________\n",
            "max_pooling2d_3 (MaxPooling2 (None, 13, 13, 64)        0         \n",
            "_________________________________________________________________\n",
            "conv2d_7 (Conv2D)            (None, 11, 11, 64)        36928     \n",
            "_________________________________________________________________\n",
            "flatten_3 (Flatten)          (None, 7744)              0         \n",
            "_________________________________________________________________\n",
            "dropout_3 (Dropout)          (None, 7744)              0         \n",
            "_________________________________________________________________\n",
            "dense_3 (Dense)              (None, 24)                185880    \n",
            "=================================================================\n",
            "Total params: 223,448\n",
            "Trainable params: 223,448\n",
            "Non-trainable params: 0\n",
            "_________________________________________________________________\n"
          ],
          "name": "stdout"
        }
      ]
    },
    {
      "cell_type": "code",
      "metadata": {
        "id": "yfYz7syDzYuP",
        "colab_type": "code",
        "outputId": "753f45f8-bf31-4b19-ea6e-893f11b5add1",
        "colab": {
          "base_uri": "https://localhost:8080/",
          "height": 754
        }
      },
      "source": [
        "# Convolutional Neural Network\n",
        "from tensorflow.python.keras.utils import plot_model\n",
        "plot_model(model, to_file='convolution_neural_network.png',show_shapes = True)"
      ],
      "execution_count": 0,
      "outputs": [
        {
          "output_type": "execute_result",
          "data": {
            "image/png": "[encoded data removed]",
            "text/plain": [
              "<IPython.core.display.Image object>"
            ]
          },
          "metadata": {
            "tags": []
          },
          "execution_count": 41
        }
      ]
    },
    {
      "cell_type": "code",
      "metadata": {
        "colab_type": "code",
        "id": "Au9fRLDx50KW",
        "colab": {}
      },
      "source": [
        "model.compile(optimizer='adam', loss='categorical_crossentropy', metrics=['accuracy'])"
      ],
      "execution_count": 0,
      "outputs": []
    },
    {
      "cell_type": "code",
      "metadata": {
        "id": "nFmqSAkA62mv",
        "colab_type": "code",
        "outputId": "32f10cbf-b123-47e8-e8fe-3166cedfa0c6",
        "colab": {
          "base_uri": "https://localhost:8080/",
          "height": 266
        }
      },
      "source": [
        "!wget https://bin.equinox.io/c/4VmDzA7iaHb/ngrok-stable-linux-amd64.zip\n",
        "!unzip ngrok-stable-linux-amd64.zip"
      ],
      "execution_count": 0,
      "outputs": [
        {
          "output_type": "stream",
          "text": [
            "--2019-07-29 08:58:03--  https://bin.equinox.io/c/4VmDzA7iaHb/ngrok-stable-linux-amd64.zip\n",
            "Resolving bin.equinox.io (bin.equinox.io)... 52.72.145.109, 54.152.127.232, 52.73.84.118, ...\n",
            "Connecting to bin.equinox.io (bin.equinox.io)|52.72.145.109|:443... connected.\n",
            "HTTP request sent, awaiting response... 200 OK\n",
            "Length: 13607069 (13M) [application/octet-stream]\n",
            "Saving to: ‘ngrok-stable-linux-amd64.zip.1’\n",
            "\n",
            "ngrok-stable-linux- 100%[===================>]  12.98M  14.4MB/s    in 0.9s    \n",
            "\n",
            "2019-07-29 08:58:04 (14.4 MB/s) - ‘ngrok-stable-linux-amd64.zip.1’ saved [13607069/13607069]\n",
            "\n",
            "Archive:  ngrok-stable-linux-amd64.zip\n",
            "replace ngrok? [y]es, [n]o, [A]ll, [N]one, [r]ename: A\n",
            "  inflating: ngrok                   \n"
          ],
          "name": "stdout"
        }
      ]
    },
    {
      "cell_type": "code",
      "metadata": {
        "id": "dWPq_8XqW3P0",
        "colab_type": "code",
        "colab": {}
      },
      "source": [
        "!mkdir log_dir"
      ],
      "execution_count": 0,
      "outputs": []
    },
    {
      "cell_type": "code",
      "metadata": {
        "id": "hKqCB-D1Wuh5",
        "colab_type": "code",
        "colab": {}
      },
      "source": [
        "log_dir='log_dir'"
      ],
      "execution_count": 0,
      "outputs": []
    },
    {
      "cell_type": "code",
      "metadata": {
        "id": "gIIzl1GY66rd",
        "colab_type": "code",
        "colab": {}
      },
      "source": [
        "get_ipython().system_raw(\n",
        "    'tensorboard --logdir {} --host 0.0.0.0 --port 6006 &'\n",
        "    .format(log_dir)\n",
        ")"
      ],
      "execution_count": 0,
      "outputs": []
    },
    {
      "cell_type": "code",
      "metadata": {
        "id": "ZcyLBez3XzXv",
        "colab_type": "code",
        "outputId": "f927d020-63b7-4dc1-cd4b-8ea72e81fcd8",
        "colab": {
          "base_uri": "https://localhost:8080/",
          "height": 35
        }
      },
      "source": [
        "get_ipython().system_raw('./ngrok authtoken 3B7pn9NBtoPA5qBzWAnxC_MJtkbzVtAKAiSEKrUQKQ &')\n",
        "get_ipython().system_raw('./ngrok http 6006 &')\n",
        "! curl -s http://localhost:4040/api/tunnels | python3 -c \\\n",
        "    \"import sys, json; print(json.load(sys.stdin)['tunnels'][0]['public_url'])\""
      ],
      "execution_count": 0,
      "outputs": [
        {
          "output_type": "stream",
          "text": [
            "https://675ebfdc.ngrok.io\n"
          ],
          "name": "stdout"
        }
      ]
    },
    {
      "cell_type": "code",
      "metadata": {
        "id": "mp23rP1F61FY",
        "colab_type": "code",
        "colab": {}
      },
      "source": [
        "from tensorflow.python.keras.callbacks import TensorBoard"
      ],
      "execution_count": 0,
      "outputs": []
    },
    {
      "cell_type": "code",
      "metadata": {
        "id": "goyiYF4etNKU",
        "colab_type": "code",
        "colab": {}
      },
      "source": [
        "callbacks = [TensorBoard(log_dir, update_freq='batch')]"
      ],
      "execution_count": 0,
      "outputs": []
    },
    {
      "cell_type": "code",
      "metadata": {
        "id": "mxBfRuhi7Gjf",
        "colab_type": "code",
        "outputId": "37ae076d-df39-4068-8e55-1398fe089eb5",
        "colab": {
          "base_uri": "https://localhost:8080/",
          "height": 1000
        }
      },
      "source": [
        "model.fit_generator(train_generator,epochs = 200, steps_per_epoch=19200//128,validation_steps=4800//128,validation_data=valid_generator, callbacks=callbacks)"
      ],
      "execution_count": 0,
      "outputs": [
        {
          "output_type": "stream",
          "text": [
            "Epoch 1/200\n",
            "150/150 [==============================] - 16s 104ms/step - loss: 0.5916 - acc: 0.8110 - val_loss: 0.5061 - val_acc: 0.8408\n",
            "Epoch 2/200\n",
            "150/150 [==============================] - 15s 98ms/step - loss: 0.2921 - acc: 0.9084 - val_loss: 0.3469 - val_acc: 0.8953\n",
            "Epoch 3/200\n",
            "150/150 [==============================] - 15s 98ms/step - loss: 0.1993 - acc: 0.9384 - val_loss: 0.2755 - val_acc: 0.9198\n",
            "Epoch 4/200\n",
            "150/150 [==============================] - 15s 99ms/step - loss: 0.1571 - acc: 0.9495 - val_loss: 0.2454 - val_acc: 0.9267\n",
            "Epoch 5/200\n",
            "150/150 [==============================] - 15s 99ms/step - loss: 0.1315 - acc: 0.9579 - val_loss: 0.2411 - val_acc: 0.9318\n",
            "Epoch 6/200\n",
            "150/150 [==============================] - 15s 98ms/step - loss: 0.1133 - acc: 0.9638 - val_loss: 0.2084 - val_acc: 0.9400\n",
            "Epoch 7/200\n",
            "150/150 [==============================] - 15s 98ms/step - loss: 0.0975 - acc: 0.9692 - val_loss: 0.1812 - val_acc: 0.9468\n",
            "Epoch 8/200\n",
            "150/150 [==============================] - 15s 98ms/step - loss: 0.0876 - acc: 0.9726 - val_loss: 0.1864 - val_acc: 0.9449\n",
            "Epoch 9/200\n",
            "150/150 [==============================] - 15s 99ms/step - loss: 0.0763 - acc: 0.9753 - val_loss: 0.1970 - val_acc: 0.9430\n",
            "Epoch 10/200\n",
            "150/150 [==============================] - 15s 99ms/step - loss: 0.0687 - acc: 0.9785 - val_loss: 0.1654 - val_acc: 0.9533\n",
            "Epoch 11/200\n",
            "150/150 [==============================] - 15s 99ms/step - loss: 0.0633 - acc: 0.9786 - val_loss: 0.1710 - val_acc: 0.9550\n",
            "Epoch 12/200\n",
            "150/150 [==============================] - 15s 100ms/step - loss: 0.0587 - acc: 0.9812 - val_loss: 0.1702 - val_acc: 0.9565\n",
            "Epoch 13/200\n",
            "150/150 [==============================] - 15s 99ms/step - loss: 0.0580 - acc: 0.9805 - val_loss: 0.1915 - val_acc: 0.9497\n",
            "Epoch 14/200\n",
            "150/150 [==============================] - 15s 100ms/step - loss: 0.0522 - acc: 0.9849 - val_loss: 0.1707 - val_acc: 0.9561\n",
            "Epoch 15/200\n",
            "150/150 [==============================] - 15s 100ms/step - loss: 0.0440 - acc: 0.9855 - val_loss: 0.1880 - val_acc: 0.9527\n",
            "Epoch 16/200\n",
            "150/150 [==============================] - 15s 99ms/step - loss: 0.0442 - acc: 0.9866 - val_loss: 0.1725 - val_acc: 0.9557\n",
            "Epoch 17/200\n",
            "150/150 [==============================] - 15s 100ms/step - loss: 0.0403 - acc: 0.9872 - val_loss: 0.1722 - val_acc: 0.9565\n",
            "Epoch 18/200\n",
            "150/150 [==============================] - 15s 99ms/step - loss: 0.0391 - acc: 0.9876 - val_loss: 0.1707 - val_acc: 0.9603\n",
            "Epoch 19/200\n",
            "150/150 [==============================] - 15s 100ms/step - loss: 0.0343 - acc: 0.9892 - val_loss: 0.1667 - val_acc: 0.9569\n",
            "Epoch 20/200\n",
            "150/150 [==============================] - 15s 101ms/step - loss: 0.0323 - acc: 0.9891 - val_loss: 0.1594 - val_acc: 0.9607\n",
            "Epoch 21/200\n",
            "150/150 [==============================] - 15s 101ms/step - loss: 0.0327 - acc: 0.9892 - val_loss: 0.1551 - val_acc: 0.9588\n",
            "Epoch 22/200\n",
            "150/150 [==============================] - 15s 101ms/step - loss: 0.0344 - acc: 0.9891 - val_loss: 0.1825 - val_acc: 0.9561\n",
            "Epoch 23/200\n",
            "150/150 [==============================] - 15s 101ms/step - loss: 0.0316 - acc: 0.9895 - val_loss: 0.1601 - val_acc: 0.9637\n",
            "Epoch 24/200\n",
            "150/150 [==============================] - 15s 101ms/step - loss: 0.0285 - acc: 0.9909 - val_loss: 0.1477 - val_acc: 0.9641\n",
            "Epoch 25/200\n",
            "150/150 [==============================] - 15s 101ms/step - loss: 0.0249 - acc: 0.9920 - val_loss: 0.1573 - val_acc: 0.9603\n",
            "Epoch 26/200\n",
            "150/150 [==============================] - 15s 99ms/step - loss: 0.0252 - acc: 0.9918 - val_loss: 0.1638 - val_acc: 0.9620\n",
            "Epoch 27/200\n",
            "150/150 [==============================] - 15s 99ms/step - loss: 0.0246 - acc: 0.9919 - val_loss: 0.1527 - val_acc: 0.9639\n",
            "Epoch 28/200\n",
            "150/150 [==============================] - 15s 99ms/step - loss: 0.0279 - acc: 0.9917 - val_loss: 0.1691 - val_acc: 0.9614\n",
            "Epoch 29/200\n",
            "150/150 [==============================] - 15s 100ms/step - loss: 0.0258 - acc: 0.9915 - val_loss: 0.1544 - val_acc: 0.9652\n",
            "Epoch 30/200\n",
            "150/150 [==============================] - 15s 100ms/step - loss: 0.0220 - acc: 0.9929 - val_loss: 0.1519 - val_acc: 0.9649\n",
            "Epoch 31/200\n",
            "150/150 [==============================] - 15s 100ms/step - loss: 0.0212 - acc: 0.9927 - val_loss: 0.1755 - val_acc: 0.9601\n",
            "Epoch 32/200\n",
            "150/150 [==============================] - 15s 100ms/step - loss: 0.0227 - acc: 0.9921 - val_loss: 0.1638 - val_acc: 0.9607\n",
            "Epoch 33/200\n",
            "150/150 [==============================] - 15s 100ms/step - loss: 0.0227 - acc: 0.9926 - val_loss: 0.1711 - val_acc: 0.9592\n",
            "Epoch 34/200\n",
            "150/150 [==============================] - 15s 100ms/step - loss: 0.0201 - acc: 0.9939 - val_loss: 0.1681 - val_acc: 0.9622\n",
            "Epoch 35/200\n",
            "150/150 [==============================] - 15s 100ms/step - loss: 0.0178 - acc: 0.9949 - val_loss: 0.1583 - val_acc: 0.9662\n",
            "Epoch 36/200\n",
            "150/150 [==============================] - 15s 100ms/step - loss: 0.0182 - acc: 0.9948 - val_loss: 0.1634 - val_acc: 0.9652\n",
            "Epoch 37/200\n",
            "150/150 [==============================] - 15s 100ms/step - loss: 0.0207 - acc: 0.9935 - val_loss: 0.1611 - val_acc: 0.9586\n",
            "Epoch 38/200\n",
            "150/150 [==============================] - 15s 100ms/step - loss: 0.0183 - acc: 0.9941 - val_loss: 0.1517 - val_acc: 0.9660\n",
            "Epoch 39/200\n",
            "150/150 [==============================] - 15s 100ms/step - loss: 0.0172 - acc: 0.9944 - val_loss: 0.1585 - val_acc: 0.9628\n",
            "Epoch 40/200\n",
            "150/150 [==============================] - 15s 100ms/step - loss: 0.0183 - acc: 0.9939 - val_loss: 0.1510 - val_acc: 0.9664\n",
            "Epoch 41/200\n",
            "150/150 [==============================] - 15s 99ms/step - loss: 0.0179 - acc: 0.9941 - val_loss: 0.1544 - val_acc: 0.9664\n",
            "Epoch 42/200\n",
            "150/150 [==============================] - 15s 99ms/step - loss: 0.0163 - acc: 0.9942 - val_loss: 0.1391 - val_acc: 0.9681\n",
            "Epoch 43/200\n",
            "150/150 [==============================] - 15s 100ms/step - loss: 0.0180 - acc: 0.9939 - val_loss: 0.1558 - val_acc: 0.9666\n",
            "Epoch 44/200\n",
            "150/150 [==============================] - 15s 99ms/step - loss: 0.0139 - acc: 0.9955 - val_loss: 0.1701 - val_acc: 0.9630\n",
            "Epoch 45/200\n",
            "150/150 [==============================] - 15s 101ms/step - loss: 0.0172 - acc: 0.9947 - val_loss: 0.1704 - val_acc: 0.9643\n",
            "Epoch 46/200\n",
            "150/150 [==============================] - 15s 100ms/step - loss: 0.0165 - acc: 0.9946 - val_loss: 0.1615 - val_acc: 0.9688\n",
            "Epoch 47/200\n",
            "150/150 [==============================] - 15s 100ms/step - loss: 0.0160 - acc: 0.9950 - val_loss: 0.1651 - val_acc: 0.9649\n",
            "Epoch 48/200\n",
            "150/150 [==============================] - 15s 100ms/step - loss: 0.0159 - acc: 0.9945 - val_loss: 0.1738 - val_acc: 0.9656\n",
            "Epoch 49/200\n",
            "150/150 [==============================] - 15s 100ms/step - loss: 0.0132 - acc: 0.9955 - val_loss: 0.1720 - val_acc: 0.9683\n",
            "Epoch 50/200\n",
            "150/150 [==============================] - 15s 99ms/step - loss: 0.0134 - acc: 0.9960 - val_loss: 0.1921 - val_acc: 0.9641\n",
            "Epoch 51/200\n",
            "150/150 [==============================] - 15s 99ms/step - loss: 0.0145 - acc: 0.9954 - val_loss: 0.1818 - val_acc: 0.9618\n",
            "Epoch 52/200\n",
            "150/150 [==============================] - 15s 99ms/step - loss: 0.0136 - acc: 0.9958 - val_loss: 0.1756 - val_acc: 0.9662\n",
            "Epoch 53/200\n",
            "150/150 [==============================] - 15s 100ms/step - loss: 0.0127 - acc: 0.9960 - val_loss: 0.1584 - val_acc: 0.9700\n",
            "Epoch 54/200\n",
            "150/150 [==============================] - 15s 100ms/step - loss: 0.0127 - acc: 0.9959 - val_loss: 0.1464 - val_acc: 0.9671\n",
            "Epoch 55/200\n",
            "150/150 [==============================] - 15s 100ms/step - loss: 0.0113 - acc: 0.9968 - val_loss: 0.1483 - val_acc: 0.9685\n",
            "Epoch 56/200\n",
            "150/150 [==============================] - 15s 100ms/step - loss: 0.0104 - acc: 0.9965 - val_loss: 0.1591 - val_acc: 0.9660\n",
            "Epoch 57/200\n",
            "150/150 [==============================] - 15s 100ms/step - loss: 0.0151 - acc: 0.9954 - val_loss: 0.1778 - val_acc: 0.9668\n",
            "Epoch 58/200\n",
            "150/150 [==============================] - 15s 99ms/step - loss: 0.0140 - acc: 0.9956 - val_loss: 0.1509 - val_acc: 0.9692\n",
            "Epoch 59/200\n",
            "150/150 [==============================] - 15s 99ms/step - loss: 0.0134 - acc: 0.9962 - val_loss: 0.1652 - val_acc: 0.9662\n",
            "Epoch 60/200\n",
            "150/150 [==============================] - 15s 99ms/step - loss: 0.0107 - acc: 0.9968 - val_loss: 0.1691 - val_acc: 0.9637\n",
            "Epoch 61/200\n",
            "150/150 [==============================] - 15s 99ms/step - loss: 0.0131 - acc: 0.9960 - val_loss: 0.1430 - val_acc: 0.9721\n",
            "Epoch 62/200\n",
            "150/150 [==============================] - 15s 99ms/step - loss: 0.0122 - acc: 0.9962 - val_loss: 0.1658 - val_acc: 0.9652\n",
            "Epoch 63/200\n",
            "150/150 [==============================] - 15s 99ms/step - loss: 0.0111 - acc: 0.9965 - val_loss: 0.1549 - val_acc: 0.9677\n",
            "Epoch 64/200\n",
            "150/150 [==============================] - 15s 99ms/step - loss: 0.0130 - acc: 0.9953 - val_loss: 0.1589 - val_acc: 0.9668\n",
            "Epoch 65/200\n",
            "150/150 [==============================] - 15s 99ms/step - loss: 0.0133 - acc: 0.9958 - val_loss: 0.1817 - val_acc: 0.9643\n",
            "Epoch 66/200\n",
            "150/150 [==============================] - 15s 101ms/step - loss: 0.0118 - acc: 0.9961 - val_loss: 0.1678 - val_acc: 0.9673\n",
            "Epoch 67/200\n",
            "150/150 [==============================] - 15s 99ms/step - loss: 0.0121 - acc: 0.9964 - val_loss: 0.1576 - val_acc: 0.9688\n",
            "Epoch 68/200\n",
            "150/150 [==============================] - 15s 99ms/step - loss: 0.0115 - acc: 0.9968 - val_loss: 0.1569 - val_acc: 0.9673\n",
            "Epoch 69/200\n",
            "150/150 [==============================] - 15s 99ms/step - loss: 0.0118 - acc: 0.9963 - val_loss: 0.1548 - val_acc: 0.9677\n",
            "Epoch 70/200\n",
            "150/150 [==============================] - 15s 99ms/step - loss: 0.0115 - acc: 0.9966 - val_loss: 0.1495 - val_acc: 0.9690\n",
            "Epoch 71/200\n",
            "150/150 [==============================] - 15s 99ms/step - loss: 0.0118 - acc: 0.9962 - val_loss: 0.1633 - val_acc: 0.9649\n",
            "Epoch 72/200\n",
            "150/150 [==============================] - 15s 99ms/step - loss: 0.0086 - acc: 0.9970 - val_loss: 0.1651 - val_acc: 0.9664\n",
            "Epoch 73/200\n",
            "150/150 [==============================] - 15s 100ms/step - loss: 0.0107 - acc: 0.9968 - val_loss: 0.1616 - val_acc: 0.9662\n",
            "Epoch 74/200\n",
            "150/150 [==============================] - 15s 99ms/step - loss: 0.0116 - acc: 0.9962 - val_loss: 0.1530 - val_acc: 0.9675\n",
            "Epoch 75/200\n",
            "150/150 [==============================] - 15s 98ms/step - loss: 0.0113 - acc: 0.9965 - val_loss: 0.1461 - val_acc: 0.9702\n",
            "Epoch 76/200\n",
            "150/150 [==============================] - 15s 99ms/step - loss: 0.0105 - acc: 0.9969 - val_loss: 0.1519 - val_acc: 0.9711\n",
            "Epoch 77/200\n",
            "150/150 [==============================] - 15s 99ms/step - loss: 0.0093 - acc: 0.9974 - val_loss: 0.1531 - val_acc: 0.9696\n",
            "Epoch 78/200\n",
            "150/150 [==============================] - 15s 100ms/step - loss: 0.0098 - acc: 0.9967 - val_loss: 0.1556 - val_acc: 0.9688\n",
            "Epoch 79/200\n",
            "150/150 [==============================] - 15s 100ms/step - loss: 0.0092 - acc: 0.9972 - val_loss: 0.1297 - val_acc: 0.9715\n",
            "Epoch 80/200\n",
            "150/150 [==============================] - 15s 99ms/step - loss: 0.0095 - acc: 0.9975 - val_loss: 0.1579 - val_acc: 0.9702\n",
            "Epoch 81/200\n",
            "150/150 [==============================] - 15s 99ms/step - loss: 0.0073 - acc: 0.9977 - val_loss: 0.1598 - val_acc: 0.9673\n",
            "Epoch 82/200\n",
            "150/150 [==============================] - 15s 100ms/step - loss: 0.0116 - acc: 0.9969 - val_loss: 0.1594 - val_acc: 0.9675\n",
            "Epoch 83/200\n",
            "150/150 [==============================] - 15s 99ms/step - loss: 0.0101 - acc: 0.9968 - val_loss: 0.1723 - val_acc: 0.9683\n",
            "Epoch 84/200\n",
            "150/150 [==============================] - 15s 100ms/step - loss: 0.0079 - acc: 0.9977 - val_loss: 0.1537 - val_acc: 0.9673\n",
            "Epoch 85/200\n",
            "150/150 [==============================] - 15s 99ms/step - loss: 0.0091 - acc: 0.9971 - val_loss: 0.1552 - val_acc: 0.9690\n",
            "Epoch 86/200\n",
            "150/150 [==============================] - 15s 99ms/step - loss: 0.0097 - acc: 0.9969 - val_loss: 0.1487 - val_acc: 0.9745\n",
            "Epoch 87/200\n",
            "150/150 [==============================] - 15s 100ms/step - loss: 0.0093 - acc: 0.9972 - val_loss: 0.1747 - val_acc: 0.9715\n",
            "Epoch 88/200\n",
            "150/150 [==============================] - 15s 99ms/step - loss: 0.0083 - acc: 0.9976 - val_loss: 0.1545 - val_acc: 0.9726\n",
            "Epoch 89/200\n",
            "150/150 [==============================] - 15s 100ms/step - loss: 0.0100 - acc: 0.9973 - val_loss: 0.1398 - val_acc: 0.9719\n",
            "Epoch 90/200\n",
            "150/150 [==============================] - 15s 100ms/step - loss: 0.0088 - acc: 0.9974 - val_loss: 0.1671 - val_acc: 0.9679\n",
            "Epoch 91/200\n",
            "150/150 [==============================] - 15s 99ms/step - loss: 0.0082 - acc: 0.9974 - val_loss: 0.1724 - val_acc: 0.9704\n",
            "Epoch 92/200\n",
            "150/150 [==============================] - 15s 99ms/step - loss: 0.0081 - acc: 0.9978 - val_loss: 0.1356 - val_acc: 0.9721\n",
            "Epoch 93/200\n",
            "150/150 [==============================] - 15s 99ms/step - loss: 0.0104 - acc: 0.9967 - val_loss: 0.1660 - val_acc: 0.9688\n",
            "Epoch 94/200\n",
            "150/150 [==============================] - 15s 100ms/step - loss: 0.0083 - acc: 0.9978 - val_loss: 0.1268 - val_acc: 0.9738\n",
            "Epoch 95/200\n",
            "150/150 [==============================] - 15s 99ms/step - loss: 0.0087 - acc: 0.9970 - val_loss: 0.1461 - val_acc: 0.9747\n",
            "Epoch 96/200\n",
            "150/150 [==============================] - 15s 99ms/step - loss: 0.0088 - acc: 0.9973 - val_loss: 0.1656 - val_acc: 0.9696\n",
            "Epoch 97/200\n",
            "150/150 [==============================] - 15s 99ms/step - loss: 0.0076 - acc: 0.9977 - val_loss: 0.1555 - val_acc: 0.9730\n",
            "Epoch 98/200\n",
            "150/150 [==============================] - 15s 100ms/step - loss: 0.0082 - acc: 0.9974 - val_loss: 0.1350 - val_acc: 0.9707\n",
            "Epoch 99/200\n",
            "150/150 [==============================] - 15s 99ms/step - loss: 0.0087 - acc: 0.9973 - val_loss: 0.1365 - val_acc: 0.9730\n",
            "Epoch 100/200\n",
            "150/150 [==============================] - 15s 99ms/step - loss: 0.0083 - acc: 0.9976 - val_loss: 0.1334 - val_acc: 0.9709\n",
            "Epoch 101/200\n",
            "150/150 [==============================] - 15s 99ms/step - loss: 0.0077 - acc: 0.9978 - val_loss: 0.1401 - val_acc: 0.9713\n",
            "Epoch 102/200\n",
            "150/150 [==============================] - 15s 100ms/step - loss: 0.0085 - acc: 0.9973 - val_loss: 0.1667 - val_acc: 0.9713\n",
            "Epoch 103/200\n",
            "150/150 [==============================] - 15s 99ms/step - loss: 0.0074 - acc: 0.9978 - val_loss: 0.1772 - val_acc: 0.9707\n",
            "Epoch 104/200\n",
            "150/150 [==============================] - 15s 100ms/step - loss: 0.0071 - acc: 0.9979 - val_loss: 0.1459 - val_acc: 0.9719\n",
            "Epoch 105/200\n",
            "150/150 [==============================] - 15s 99ms/step - loss: 0.0068 - acc: 0.9977 - val_loss: 0.1833 - val_acc: 0.9683\n",
            "Epoch 106/200\n",
            "150/150 [==============================] - 15s 99ms/step - loss: 0.0093 - acc: 0.9970 - val_loss: 0.1499 - val_acc: 0.9692\n",
            "Epoch 107/200\n",
            "150/150 [==============================] - 15s 99ms/step - loss: 0.0091 - acc: 0.9971 - val_loss: 0.1536 - val_acc: 0.9738\n",
            "Epoch 108/200\n",
            "150/150 [==============================] - 15s 101ms/step - loss: 0.0067 - acc: 0.9978 - val_loss: 0.1652 - val_acc: 0.9662\n",
            "Epoch 109/200\n",
            "150/150 [==============================] - 15s 100ms/step - loss: 0.0074 - acc: 0.9974 - val_loss: 0.1477 - val_acc: 0.9721\n",
            "Epoch 110/200\n",
            "150/150 [==============================] - 15s 100ms/step - loss: 0.0072 - acc: 0.9980 - val_loss: 0.1369 - val_acc: 0.9738\n",
            "Epoch 111/200\n",
            "150/150 [==============================] - 15s 100ms/step - loss: 0.0077 - acc: 0.9976 - val_loss: 0.1573 - val_acc: 0.9709\n",
            "Epoch 112/200\n",
            "150/150 [==============================] - 15s 100ms/step - loss: 0.0069 - acc: 0.9978 - val_loss: 0.1560 - val_acc: 0.9719\n",
            "Epoch 113/200\n",
            "150/150 [==============================] - 15s 101ms/step - loss: 0.0085 - acc: 0.9978 - val_loss: 0.1615 - val_acc: 0.9709\n",
            "Epoch 114/200\n",
            "150/150 [==============================] - 15s 101ms/step - loss: 0.0074 - acc: 0.9978 - val_loss: 0.1530 - val_acc: 0.9715\n",
            "Epoch 115/200\n",
            "150/150 [==============================] - 15s 100ms/step - loss: 0.0049 - acc: 0.9984 - val_loss: 0.1831 - val_acc: 0.9677\n",
            "Epoch 116/200\n",
            "150/150 [==============================] - 15s 100ms/step - loss: 0.0078 - acc: 0.9973 - val_loss: 0.1455 - val_acc: 0.9732\n",
            "Epoch 117/200\n",
            "150/150 [==============================] - 15s 100ms/step - loss: 0.0077 - acc: 0.9975 - val_loss: 0.1572 - val_acc: 0.9713\n",
            "Epoch 118/200\n",
            "150/150 [==============================] - 15s 101ms/step - loss: 0.0067 - acc: 0.9978 - val_loss: 0.1601 - val_acc: 0.9707\n",
            "Epoch 119/200\n",
            "150/150 [==============================] - 15s 100ms/step - loss: 0.0088 - acc: 0.9978 - val_loss: 0.1564 - val_acc: 0.9734\n",
            "Epoch 120/200\n",
            "150/150 [==============================] - 15s 100ms/step - loss: 0.0072 - acc: 0.9981 - val_loss: 0.1540 - val_acc: 0.9709\n",
            "Epoch 121/200\n",
            "150/150 [==============================] - 15s 100ms/step - loss: 0.0086 - acc: 0.9977 - val_loss: 0.1658 - val_acc: 0.9726\n",
            "Epoch 122/200\n",
            "150/150 [==============================] - 15s 100ms/step - loss: 0.0073 - acc: 0.9974 - val_loss: 0.1447 - val_acc: 0.9736\n",
            "Epoch 123/200\n",
            "150/150 [==============================] - 15s 100ms/step - loss: 0.0081 - acc: 0.9978 - val_loss: 0.1652 - val_acc: 0.9711\n",
            "Epoch 124/200\n",
            "150/150 [==============================] - 15s 100ms/step - loss: 0.0088 - acc: 0.9973 - val_loss: 0.1521 - val_acc: 0.9713\n",
            "Epoch 125/200\n",
            "150/150 [==============================] - 15s 100ms/step - loss: 0.0061 - acc: 0.9981 - val_loss: 0.1608 - val_acc: 0.9711\n",
            "Epoch 126/200\n",
            "150/150 [==============================] - 15s 100ms/step - loss: 0.0072 - acc: 0.9979 - val_loss: 0.1477 - val_acc: 0.9728\n",
            "Epoch 127/200\n",
            "150/150 [==============================] - 15s 100ms/step - loss: 0.0075 - acc: 0.9979 - val_loss: 0.1585 - val_acc: 0.9740\n",
            "Epoch 128/200\n",
            "150/150 [==============================] - 15s 101ms/step - loss: 0.0074 - acc: 0.9978 - val_loss: 0.1479 - val_acc: 0.9704\n",
            "Epoch 129/200\n",
            "150/150 [==============================] - 15s 100ms/step - loss: 0.0069 - acc: 0.9981 - val_loss: 0.1573 - val_acc: 0.9700\n",
            "Epoch 130/200\n",
            "150/150 [==============================] - 15s 100ms/step - loss: 0.0065 - acc: 0.9979 - val_loss: 0.1529 - val_acc: 0.9726\n",
            "Epoch 131/200\n",
            "150/150 [==============================] - 15s 100ms/step - loss: 0.0085 - acc: 0.9980 - val_loss: 0.1541 - val_acc: 0.9707\n",
            "Epoch 132/200\n",
            "150/150 [==============================] - 15s 100ms/step - loss: 0.0065 - acc: 0.9985 - val_loss: 0.1680 - val_acc: 0.9717\n",
            "Epoch 133/200\n",
            "150/150 [==============================] - 15s 100ms/step - loss: 0.0062 - acc: 0.9981 - val_loss: 0.1657 - val_acc: 0.9707\n",
            "Epoch 134/200\n",
            "150/150 [==============================] - 15s 100ms/step - loss: 0.0072 - acc: 0.9981 - val_loss: 0.1611 - val_acc: 0.9723\n",
            "Epoch 135/200\n",
            "150/150 [==============================] - 15s 100ms/step - loss: 0.0087 - acc: 0.9978 - val_loss: 0.1421 - val_acc: 0.9751\n",
            "Epoch 136/200\n",
            "150/150 [==============================] - 15s 100ms/step - loss: 0.0060 - acc: 0.9982 - val_loss: 0.1592 - val_acc: 0.9713\n",
            "Epoch 137/200\n",
            "150/150 [==============================] - 15s 100ms/step - loss: 0.0083 - acc: 0.9976 - val_loss: 0.1434 - val_acc: 0.9715\n",
            "Epoch 138/200\n",
            "150/150 [==============================] - 15s 100ms/step - loss: 0.0074 - acc: 0.9979 - val_loss: 0.1414 - val_acc: 0.9747\n",
            "Epoch 139/200\n",
            "150/150 [==============================] - 15s 100ms/step - loss: 0.0080 - acc: 0.9973 - val_loss: 0.1322 - val_acc: 0.9742\n",
            "Epoch 140/200\n",
            "150/150 [==============================] - 15s 100ms/step - loss: 0.0060 - acc: 0.9983 - val_loss: 0.1626 - val_acc: 0.9719\n",
            "Epoch 141/200\n",
            "150/150 [==============================] - 15s 100ms/step - loss: 0.0087 - acc: 0.9977 - val_loss: 0.1501 - val_acc: 0.9751\n",
            "Epoch 142/200\n",
            "150/150 [==============================] - 15s 100ms/step - loss: 0.0048 - acc: 0.9985 - val_loss: 0.1525 - val_acc: 0.9738\n",
            "Epoch 143/200\n",
            "150/150 [==============================] - 15s 100ms/step - loss: 0.0066 - acc: 0.9981 - val_loss: 0.1473 - val_acc: 0.9732\n",
            "Epoch 144/200\n",
            "150/150 [==============================] - 15s 100ms/step - loss: 0.0055 - acc: 0.9983 - val_loss: 0.1732 - val_acc: 0.9726\n",
            "Epoch 145/200\n",
            "150/150 [==============================] - 15s 100ms/step - loss: 0.0063 - acc: 0.9981 - val_loss: 0.1456 - val_acc: 0.9730\n",
            "Epoch 146/200\n",
            "150/150 [==============================] - 15s 100ms/step - loss: 0.0060 - acc: 0.9980 - val_loss: 0.1409 - val_acc: 0.9755\n",
            "Epoch 147/200\n",
            "150/150 [==============================] - 15s 100ms/step - loss: 0.0046 - acc: 0.9987 - val_loss: 0.1262 - val_acc: 0.9745\n",
            "Epoch 148/200\n",
            "150/150 [==============================] - 15s 100ms/step - loss: 0.0079 - acc: 0.9975 - val_loss: 0.1556 - val_acc: 0.9713\n",
            "Epoch 149/200\n",
            "150/150 [==============================] - 15s 102ms/step - loss: 0.0065 - acc: 0.9983 - val_loss: 0.1233 - val_acc: 0.9766\n",
            "Epoch 150/200\n",
            "150/150 [==============================] - 15s 100ms/step - loss: 0.0055 - acc: 0.9985 - val_loss: 0.1552 - val_acc: 0.9742\n",
            "Epoch 151/200\n",
            "150/150 [==============================] - 15s 100ms/step - loss: 0.0055 - acc: 0.9985 - val_loss: 0.1421 - val_acc: 0.9726\n",
            "Epoch 152/200\n",
            "150/150 [==============================] - 15s 100ms/step - loss: 0.0051 - acc: 0.9984 - val_loss: 0.1520 - val_acc: 0.9749\n",
            "Epoch 153/200\n",
            "150/150 [==============================] - 15s 100ms/step - loss: 0.0066 - acc: 0.9980 - val_loss: 0.1657 - val_acc: 0.9696\n",
            "Epoch 154/200\n",
            "150/150 [==============================] - 15s 100ms/step - loss: 0.0059 - acc: 0.9981 - val_loss: 0.1553 - val_acc: 0.9728\n",
            "Epoch 155/200\n",
            "150/150 [==============================] - 15s 101ms/step - loss: 0.0070 - acc: 0.9980 - val_loss: 0.1421 - val_acc: 0.9732\n",
            "Epoch 156/200\n",
            "150/150 [==============================] - 15s 100ms/step - loss: 0.0058 - acc: 0.9984 - val_loss: 0.1474 - val_acc: 0.9732\n",
            "Epoch 157/200\n",
            "150/150 [==============================] - 15s 100ms/step - loss: 0.0052 - acc: 0.9983 - val_loss: 0.1650 - val_acc: 0.9723\n",
            "Epoch 158/200\n",
            "150/150 [==============================] - 15s 100ms/step - loss: 0.0054 - acc: 0.9989 - val_loss: 0.1538 - val_acc: 0.9711\n",
            "Epoch 159/200\n",
            "150/150 [==============================] - 15s 100ms/step - loss: 0.0053 - acc: 0.9985 - val_loss: 0.1525 - val_acc: 0.9732\n",
            "Epoch 160/200\n",
            "150/150 [==============================] - 15s 100ms/step - loss: 0.0055 - acc: 0.9986 - val_loss: 0.1633 - val_acc: 0.9734\n",
            "Epoch 161/200\n",
            "150/150 [==============================] - 15s 101ms/step - loss: 0.0047 - acc: 0.9988 - val_loss: 0.1354 - val_acc: 0.9732\n",
            "Epoch 162/200\n",
            "150/150 [==============================] - 15s 100ms/step - loss: 0.0054 - acc: 0.9986 - val_loss: 0.1609 - val_acc: 0.9728\n",
            "Epoch 163/200\n",
            "150/150 [==============================] - 15s 100ms/step - loss: 0.0066 - acc: 0.9979 - val_loss: 0.1700 - val_acc: 0.9700\n",
            "Epoch 164/200\n",
            "150/150 [==============================] - 15s 100ms/step - loss: 0.0059 - acc: 0.9986 - val_loss: 0.1589 - val_acc: 0.9747\n",
            "Epoch 165/200\n",
            "150/150 [==============================] - 15s 101ms/step - loss: 0.0056 - acc: 0.9986 - val_loss: 0.1701 - val_acc: 0.9679\n",
            "Epoch 166/200\n",
            "150/150 [==============================] - 15s 100ms/step - loss: 0.0072 - acc: 0.9978 - val_loss: 0.1676 - val_acc: 0.9704\n",
            "Epoch 167/200\n",
            "150/150 [==============================] - 15s 100ms/step - loss: 0.0055 - acc: 0.9984 - val_loss: 0.1272 - val_acc: 0.9785\n",
            "Epoch 168/200\n",
            "150/150 [==============================] - 15s 100ms/step - loss: 0.0040 - acc: 0.9985 - val_loss: 0.1540 - val_acc: 0.9734\n",
            "Epoch 169/200\n",
            "150/150 [==============================] - 15s 100ms/step - loss: 0.0038 - acc: 0.9986 - val_loss: 0.1726 - val_acc: 0.9719\n",
            "Epoch 170/200\n",
            "150/150 [==============================] - 15s 101ms/step - loss: 0.0059 - acc: 0.9984 - val_loss: 0.1566 - val_acc: 0.9749\n",
            "Epoch 171/200\n",
            "150/150 [==============================] - 15s 100ms/step - loss: 0.0048 - acc: 0.9982 - val_loss: 0.1440 - val_acc: 0.9766\n",
            "Epoch 172/200\n",
            "150/150 [==============================] - 15s 100ms/step - loss: 0.0054 - acc: 0.9984 - val_loss: 0.1605 - val_acc: 0.9711\n",
            "Epoch 173/200\n",
            "150/150 [==============================] - 15s 100ms/step - loss: 0.0048 - acc: 0.9984 - val_loss: 0.1734 - val_acc: 0.9751\n",
            "Epoch 174/200\n",
            "150/150 [==============================] - 15s 100ms/step - loss: 0.0062 - acc: 0.9980 - val_loss: 0.1557 - val_acc: 0.9757\n",
            "Epoch 175/200\n",
            "150/150 [==============================] - 15s 101ms/step - loss: 0.0053 - acc: 0.9985 - val_loss: 0.1688 - val_acc: 0.9745\n",
            "Epoch 176/200\n",
            "150/150 [==============================] - 15s 100ms/step - loss: 0.0070 - acc: 0.9982 - val_loss: 0.1448 - val_acc: 0.9704\n",
            "Epoch 177/200\n",
            "150/150 [==============================] - 15s 101ms/step - loss: 0.0064 - acc: 0.9985 - val_loss: 0.1691 - val_acc: 0.9721\n",
            "Epoch 178/200\n",
            "150/150 [==============================] - 15s 101ms/step - loss: 0.0055 - acc: 0.9982 - val_loss: 0.1632 - val_acc: 0.9732\n",
            "Epoch 179/200\n",
            "150/150 [==============================] - 15s 101ms/step - loss: 0.0069 - acc: 0.9981 - val_loss: 0.1555 - val_acc: 0.9745\n",
            "Epoch 180/200\n",
            "150/150 [==============================] - 15s 100ms/step - loss: 0.0061 - acc: 0.9980 - val_loss: 0.1535 - val_acc: 0.9751\n",
            "Epoch 181/200\n",
            "150/150 [==============================] - 15s 101ms/step - loss: 0.0057 - acc: 0.9984 - val_loss: 0.1515 - val_acc: 0.9747\n",
            "Epoch 182/200\n",
            "150/150 [==============================] - 15s 100ms/step - loss: 0.0066 - acc: 0.9982 - val_loss: 0.1567 - val_acc: 0.9726\n",
            "Epoch 183/200\n",
            "150/150 [==============================] - 15s 100ms/step - loss: 0.0066 - acc: 0.9978 - val_loss: 0.1609 - val_acc: 0.9730\n",
            "Epoch 184/200\n",
            "150/150 [==============================] - 15s 100ms/step - loss: 0.0054 - acc: 0.9983 - val_loss: 0.1612 - val_acc: 0.9719\n",
            "Epoch 185/200\n",
            "150/150 [==============================] - 15s 100ms/step - loss: 0.0056 - acc: 0.9985 - val_loss: 0.1580 - val_acc: 0.9742\n",
            "Epoch 186/200\n",
            "150/150 [==============================] - 15s 101ms/step - loss: 0.0053 - acc: 0.9982 - val_loss: 0.1529 - val_acc: 0.9738\n",
            "Epoch 187/200\n",
            "150/150 [==============================] - 15s 101ms/step - loss: 0.0065 - acc: 0.9980 - val_loss: 0.1622 - val_acc: 0.9709\n",
            "Epoch 188/200\n",
            "150/150 [==============================] - 15s 101ms/step - loss: 0.0046 - acc: 0.9989 - val_loss: 0.1771 - val_acc: 0.9681\n",
            "Epoch 189/200\n",
            "150/150 [==============================] - 15s 101ms/step - loss: 0.0037 - acc: 0.9990 - val_loss: 0.1584 - val_acc: 0.9757\n",
            "Epoch 190/200\n",
            "150/150 [==============================] - 15s 101ms/step - loss: 0.0055 - acc: 0.9985 - val_loss: 0.1639 - val_acc: 0.9715\n",
            "Epoch 191/200\n",
            "150/150 [==============================] - 15s 101ms/step - loss: 0.0068 - acc: 0.9981 - val_loss: 0.1629 - val_acc: 0.9721\n",
            "Epoch 192/200\n",
            "150/150 [==============================] - 15s 101ms/step - loss: 0.0061 - acc: 0.9982 - val_loss: 0.1324 - val_acc: 0.9749\n",
            "Epoch 193/200\n",
            "150/150 [==============================] - 15s 101ms/step - loss: 0.0041 - acc: 0.9988 - val_loss: 0.1449 - val_acc: 0.9757\n",
            "Epoch 194/200\n",
            "150/150 [==============================] - 15s 101ms/step - loss: 0.0049 - acc: 0.9986 - val_loss: 0.1495 - val_acc: 0.9723\n",
            "Epoch 195/200\n",
            "150/150 [==============================] - 20s 132ms/step - loss: 0.0059 - acc: 0.9986 - val_loss: 0.1262 - val_acc: 0.9723\n",
            "Epoch 196/200\n",
            "150/150 [==============================] - 15s 102ms/step - loss: 0.0046 - acc: 0.9990 - val_loss: 0.1360 - val_acc: 0.9768\n",
            "Epoch 197/200\n",
            "150/150 [==============================] - 15s 102ms/step - loss: 0.0036 - acc: 0.9991 - val_loss: 0.1503 - val_acc: 0.9753\n",
            "Epoch 198/200\n",
            "150/150 [==============================] - 15s 103ms/step - loss: 0.0054 - acc: 0.9985 - val_loss: 0.1593 - val_acc: 0.9730\n",
            "Epoch 199/200\n",
            "150/150 [==============================] - 16s 103ms/step - loss: 0.0061 - acc: 0.9981 - val_loss: 0.1424 - val_acc: 0.9755\n",
            "Epoch 200/200\n",
            "150/150 [==============================] - 15s 102ms/step - loss: 0.0054 - acc: 0.9984 - val_loss: 0.2025 - val_acc: 0.9673\n"
          ],
          "name": "stdout"
        },
        {
          "output_type": "execute_result",
          "data": {
            "text/plain": [
              "<tensorflow.python.keras.callbacks.History at 0x7f4f6021dda0>"
            ]
          },
          "metadata": {
            "tags": []
          },
          "execution_count": 44
        }
      ]
    },
    {
      "cell_type": "code",
      "metadata": {
        "id": "WmouhQDtSq4w",
        "colab_type": "code",
        "colab": {}
      },
      "source": [
        "model.save('majorProjectV1.h5')"
      ],
      "execution_count": 0,
      "outputs": []
    },
    {
      "cell_type": "code",
      "metadata": {
        "id": "CZ5QKrQpYF9S",
        "colab_type": "code",
        "colab": {}
      },
      "source": [
        "from google.colab import drive\n",
        "drive.mount('/content/drive')"
      ],
      "execution_count": 0,
      "outputs": []
    },
    {
      "cell_type": "code",
      "metadata": {
        "id": "2h2CBNC3YIu7",
        "colab_type": "code",
        "colab": {}
      },
      "source": [
        ""
      ],
      "execution_count": 0,
      "outputs": []
    }
  ]
}